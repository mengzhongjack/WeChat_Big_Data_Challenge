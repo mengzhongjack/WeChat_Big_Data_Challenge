{
  "nbformat": 4,
  "nbformat_minor": 0,
  "metadata": {
    "colab": {
      "name": "demo.ipynb",
      "provenance": [],
      "collapsed_sections": [],
      "toc_visible": true,
      "authorship_tag": "ABX9TyPDRYjnV8Ft/kGSIGB5szRw",
      "include_colab_link": true
    },
    "kernelspec": {
      "name": "python3",
      "display_name": "Python 3"
    }
  },
  "cells": [
    {
      "cell_type": "markdown",
      "metadata": {
        "id": "view-in-github",
        "colab_type": "text"
      },
      "source": [
        "<a href=\"https://colab.research.google.com/github/mengzhongjack/WeChat_Big_Data_Challenge/blob/master/demo.ipynb\" target=\"_parent\"><img src=\"https://colab.research.google.com/assets/colab-badge.svg\" alt=\"Open In Colab\"/></a>"
      ]
    },
    {
      "cell_type": "code",
      "metadata": {
        "id": "lwLEnXngyKaG",
        "colab": {
          "base_uri": "https://localhost:8080/"
        },
        "outputId": "50c1d48f-c1eb-4448-e823-95b9af640c9d"
      },
      "source": [
        "from google.colab import drive\n",
        "drive.mount('/content/drive')"
      ],
      "execution_count": null,
      "outputs": [
        {
          "output_type": "stream",
          "text": [
            "Drive already mounted at /content/drive; to attempt to forcibly remount, call drive.mount(\"/content/drive\", force_remount=True).\n"
          ],
          "name": "stdout"
        }
      ]
    },
    {
      "cell_type": "code",
      "metadata": {
        "colab": {
          "base_uri": "https://localhost:8080/"
        },
        "id": "K7-81OCxjjZU",
        "outputId": "17ebd187-d64d-46c6-d7fb-e5a52cb30132"
      },
      "source": [
        "%cd /content/drive/MyDrive/wechat_match"
      ],
      "execution_count": null,
      "outputs": [
        {
          "output_type": "stream",
          "text": [
            "/content/drive/MyDrive/wechat_match\n"
          ],
          "name": "stdout"
        }
      ]
    },
    {
      "cell_type": "code",
      "metadata": {
        "colab": {
          "base_uri": "https://localhost:8080/"
        },
        "id": "iUic5xTWygm0",
        "outputId": "46b64fe0-3082-4afe-b529-f6f05e1f1c0e"
      },
      "source": [
        "!ls -l"
      ],
      "execution_count": 29,
      "outputs": [
        {
          "output_type": "stream",
          "text": [
            "total 20\n",
            "drwx------ 3 root root  4096 May 25 13:37 data\n",
            "-rw------- 1 root root  5069 May 25 13:01 demo.ipynb\n",
            "-rw------- 1 root root 11112 May 25 13:25 附件：赛题描述——微信视频号推荐算法.md\n"
          ],
          "name": "stdout"
        }
      ]
    },
    {
      "cell_type": "markdown",
      "metadata": {
        "id": "LiA4EdZLkqEU"
      },
      "source": [
        ""
      ]
    },
    {
      "cell_type": "code",
      "metadata": {
        "id": "6JJCysdYjmVs",
        "colab": {
          "base_uri": "https://localhost:8080/"
        },
        "outputId": "21347ac8-5f1c-48c9-8400-85cb948cec67"
      },
      "source": [
        "# # !ls -l\n",
        "# !unzip wechat_algo_data1.zip"
      ],
      "execution_count": null,
      "outputs": [
        {
          "output_type": "stream",
          "text": [
            "Archive:  wechat_algo_data1.zip\n",
            "replace wechat_algo_data1/test_a.csv? [y]es, [n]o, [A]ll, [N]one, [r]ename: "
          ],
          "name": "stdout"
        }
      ]
    },
    {
      "cell_type": "code",
      "metadata": {
        "id": "rKAUrmYqmapm"
      },
      "source": [
        "import pandas as pd "
      ],
      "execution_count": null,
      "outputs": []
    },
    {
      "cell_type": "code",
      "metadata": {
        "id": "QCIWhWNnmePV"
      },
      "source": [
        "df_feed_embeddings = pd.read_csv(\"./data/wechat_algo_data1/feed_embeddings.csv\")\n",
        "df_feed_info = pd.read_csv(\"./data/wechat_algo_data1/feed_info.csv\")\n",
        "df_feed_info = pd.read_csv(\"./data/wechat_algo_data1/feed_info.csv\")\n",
        "df_feed_info = pd.read_csv(\"./data/wechat_algo_data1/submit_demo_初赛a.csv\")"
      ],
      "execution_count": 30,
      "outputs": []
    },
    {
      "cell_type": "code",
      "metadata": {
        "colab": {
          "base_uri": "https://localhost:8080/",
          "height": 204
        },
        "id": "xGezlAVxnD0X",
        "outputId": "12f0fa5b-43f8-4a7f-d604-6cbce0df8f41"
      },
      "source": [
        "df_feed_embeddings.head()"
      ],
      "execution_count": 31,
      "outputs": [
        {
          "output_type": "execute_result",
          "data": {
            "text/html": [
              "<div>\n",
              "<style scoped>\n",
              "    .dataframe tbody tr th:only-of-type {\n",
              "        vertical-align: middle;\n",
              "    }\n",
              "\n",
              "    .dataframe tbody tr th {\n",
              "        vertical-align: top;\n",
              "    }\n",
              "\n",
              "    .dataframe thead th {\n",
              "        text-align: right;\n",
              "    }\n",
              "</style>\n",
              "<table border=\"1\" class=\"dataframe\">\n",
              "  <thead>\n",
              "    <tr style=\"text-align: right;\">\n",
              "      <th></th>\n",
              "      <th>feedid</th>\n",
              "      <th>feed_embedding</th>\n",
              "    </tr>\n",
              "  </thead>\n",
              "  <tbody>\n",
              "    <tr>\n",
              "      <th>0</th>\n",
              "      <td>46022</td>\n",
              "      <td>-0.02032269 0.06095614 0.11057708 0.03385210 0...</td>\n",
              "    </tr>\n",
              "    <tr>\n",
              "      <th>1</th>\n",
              "      <td>73903</td>\n",
              "      <td>-0.07594238 0.01796364 -0.00135112 -0.00333468...</td>\n",
              "    </tr>\n",
              "    <tr>\n",
              "      <th>2</th>\n",
              "      <td>88646</td>\n",
              "      <td>-0.05067272 -0.08208735 -0.01929738 -0.0150182...</td>\n",
              "    </tr>\n",
              "    <tr>\n",
              "      <th>3</th>\n",
              "      <td>24381</td>\n",
              "      <td>-0.06976026 0.00218324 0.04416835 0.06146711 -...</td>\n",
              "    </tr>\n",
              "    <tr>\n",
              "      <th>4</th>\n",
              "      <td>41542</td>\n",
              "      <td>-0.04981736 -0.03523079 0.03022859 0.06672543 ...</td>\n",
              "    </tr>\n",
              "  </tbody>\n",
              "</table>\n",
              "</div>"
            ],
            "text/plain": [
              "   feedid                                     feed_embedding\n",
              "0   46022  -0.02032269 0.06095614 0.11057708 0.03385210 0...\n",
              "1   73903  -0.07594238 0.01796364 -0.00135112 -0.00333468...\n",
              "2   88646  -0.05067272 -0.08208735 -0.01929738 -0.0150182...\n",
              "3   24381  -0.06976026 0.00218324 0.04416835 0.06146711 -...\n",
              "4   41542  -0.04981736 -0.03523079 0.03022859 0.06672543 ..."
            ]
          },
          "metadata": {
            "tags": []
          },
          "execution_count": 31
        }
      ]
    },
    {
      "cell_type": "code",
      "metadata": {
        "colab": {
          "base_uri": "https://localhost:8080/",
          "height": 204
        },
        "id": "UrxqzOnBydw_",
        "outputId": "d398d648-833e-491d-f50c-94c4fc52d6ac"
      },
      "source": [
        "df_feed_info.head()"
      ],
      "execution_count": 32,
      "outputs": [
        {
          "output_type": "execute_result",
          "data": {
            "text/html": [
              "<div>\n",
              "<style scoped>\n",
              "    .dataframe tbody tr th:only-of-type {\n",
              "        vertical-align: middle;\n",
              "    }\n",
              "\n",
              "    .dataframe tbody tr th {\n",
              "        vertical-align: top;\n",
              "    }\n",
              "\n",
              "    .dataframe thead th {\n",
              "        text-align: right;\n",
              "    }\n",
              "</style>\n",
              "<table border=\"1\" class=\"dataframe\">\n",
              "  <thead>\n",
              "    <tr style=\"text-align: right;\">\n",
              "      <th></th>\n",
              "      <th>userid</th>\n",
              "      <th>feedid</th>\n",
              "      <th>read_comment</th>\n",
              "      <th>like</th>\n",
              "      <th>click_avatar</th>\n",
              "      <th>forward</th>\n",
              "    </tr>\n",
              "  </thead>\n",
              "  <tbody>\n",
              "    <tr>\n",
              "      <th>0</th>\n",
              "      <td>14298</td>\n",
              "      <td>67227</td>\n",
              "      <td>0.880075</td>\n",
              "      <td>0.483832</td>\n",
              "      <td>0.722144</td>\n",
              "      <td>0.563880</td>\n",
              "    </tr>\n",
              "    <tr>\n",
              "      <th>1</th>\n",
              "      <td>68356</td>\n",
              "      <td>91864</td>\n",
              "      <td>0.769031</td>\n",
              "      <td>0.929535</td>\n",
              "      <td>0.186520</td>\n",
              "      <td>0.257904</td>\n",
              "    </tr>\n",
              "    <tr>\n",
              "      <th>2</th>\n",
              "      <td>49925</td>\n",
              "      <td>104657</td>\n",
              "      <td>0.932616</td>\n",
              "      <td>0.405896</td>\n",
              "      <td>0.142349</td>\n",
              "      <td>0.284657</td>\n",
              "    </tr>\n",
              "    <tr>\n",
              "      <th>3</th>\n",
              "      <td>60529</td>\n",
              "      <td>23738</td>\n",
              "      <td>0.143770</td>\n",
              "      <td>0.550933</td>\n",
              "      <td>0.316308</td>\n",
              "      <td>0.159592</td>\n",
              "    </tr>\n",
              "    <tr>\n",
              "      <th>4</th>\n",
              "      <td>131482</td>\n",
              "      <td>69038</td>\n",
              "      <td>0.139427</td>\n",
              "      <td>0.051200</td>\n",
              "      <td>0.295990</td>\n",
              "      <td>0.092229</td>\n",
              "    </tr>\n",
              "  </tbody>\n",
              "</table>\n",
              "</div>"
            ],
            "text/plain": [
              "   userid  feedid  read_comment      like  click_avatar   forward\n",
              "0   14298   67227      0.880075  0.483832      0.722144  0.563880\n",
              "1   68356   91864      0.769031  0.929535      0.186520  0.257904\n",
              "2   49925  104657      0.932616  0.405896      0.142349  0.284657\n",
              "3   60529   23738      0.143770  0.550933      0.316308  0.159592\n",
              "4  131482   69038      0.139427  0.051200      0.295990  0.092229"
            ]
          },
          "metadata": {
            "tags": []
          },
          "execution_count": 32
        }
      ]
    }
  ]
}